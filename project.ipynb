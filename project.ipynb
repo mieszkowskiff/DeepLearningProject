{
 "cells": [
  {
   "cell_type": "markdown",
   "metadata": {},
   "source": [
    "## Downloading .parquet files"
   ]
  },
  {
   "cell_type": "code",
   "execution_count": null,
   "metadata": {},
   "outputs": [],
   "source": [
    "!wget https://huggingface.co/datasets/wikimedia/wit_base/resolve/main/data/train-00000-of-00330.parquet\n",
    "!wget https://huggingface.co/datasets/wikimedia/wit_base/resolve/main/data/train-00001-of-00330.parquet\n",
    "!wget https://huggingface.co/datasets/wikimedia/wit_base/resolve/main/data/train-00002-of-00330.parquet\n",
    "!wget https://huggingface.co/datasets/wikimedia/wit_base/resolve/main/data/train-00003-of-00330.parquet\n",
    "!wget https://huggingface.co/datasets/wikimedia/wit_base/resolve/main/data/train-00004-of-00330.parquet"
   ]
  },
  {
   "cell_type": "code",
   "execution_count": 2,
   "metadata": {},
   "outputs": [],
   "source": [
    "import pandas as pd\n",
    "import requests\n",
    "from PIL import Image\n",
    "from io import BytesIO\n",
    "import os\n",
    "import ollama\n",
    "import tempfile\n",
    "import time"
   ]
  },
  {
   "cell_type": "markdown",
   "metadata": {},
   "source": [
    "## Downloading photos and classification using minicpm-v:8b (ollama)"
   ]
  },
  {
   "cell_type": "markdown",
   "metadata": {},
   "source": [
    "### Setup (need to be run for every .parquet file)"
   ]
  },
  {
   "cell_type": "code",
   "execution_count": 3,
   "metadata": {},
   "outputs": [],
   "source": [
    "\n",
    "model_name = \"minicpm-v:8b\"\n",
    "parquet_file = \"train-00002-of-00330.parquet\"\n",
    "\n",
    "\n",
    "# Ścieżki wyjściowe\n",
    "INSIDE_DIR = './dataset/inside'\n",
    "OUTSIDE_DIR = './dataset/outside'\n",
    "not_known_DIR = './dataset/not_known'\n",
    "os.makedirs(INSIDE_DIR, exist_ok=True)\n",
    "os.makedirs(OUTSIDE_DIR, exist_ok=True)\n",
    "\n",
    "\n",
    "\n",
    "# Wczytaj Parquet do DataFrame\n",
    "df = pd.read_parquet(parquet_file)\n",
    "\n",
    "headers = {\n",
    "    \"User-Agent\": \"IN/OUT DeepLearning Project (mieszkowskifff@gmail.com)\"\n",
    "}"
   ]
  },
  {
   "cell_type": "markdown",
   "metadata": {},
   "source": [
    "### Function for asking model and saving file under proper directory"
   ]
  },
  {
   "cell_type": "code",
   "execution_count": 4,
   "metadata": {},
   "outputs": [],
   "source": [
    "def classify_and_save(image_url, caption, idx):\n",
    "    try:\n",
    "        response = requests.get(image_url, headers = headers, timeout=10)\n",
    "        response.raise_for_status()\n",
    "        image = Image.open(BytesIO(response.content)).convert(\"RGB\")\n",
    "    except Exception as e:\n",
    "        print(f\"[{idx}] Błąd pobierania obrazu: {e}\")\n",
    "        return\n",
    "\n",
    "    try:\n",
    "        prompt = f\"\"\"You are an image scene classifier. Based on the image and the following caption, classify the scene strictly as \"inside\", \"outside\" or \"not known\".\n",
    "\n",
    "Caption: \"{caption}\"\n",
    "\n",
    "Respond only with: \"inside\", \"outside\" or \"not known\".\n",
    "\"\"\"\n",
    "        with tempfile.NamedTemporaryFile(suffix=\".jpg\", delete=False) as tmp:\n",
    "            image.save(tmp.name)\n",
    "            image_path = tmp.name\n",
    "\n",
    "        result = ollama.chat(\n",
    "            model = model_name,\n",
    "            messages = [{\n",
    "                \"role\": \"user\",\n",
    "                \"content\": prompt,\n",
    "                \"images\": [image_path]\n",
    "            }]\n",
    "        )\n",
    "\n",
    "        reply = result[\"message\"][\"content\"].strip().lower()\n",
    "        if \"inside\" in reply:\n",
    "            out_path = os.path.join(INSIDE_DIR, f\"{idx}_{time.time()}.jpg\")\n",
    "        elif \"outside\" in reply:\n",
    "            out_path = os.path.join(OUTSIDE_DIR, f\"{idx}_{time.time()}.jpg\")\n",
    "        else:\n",
    "            out_path = os.path.join(not_known_DIR, f\"{idx}_{time.time()}.jpg\")\n",
    "\n",
    "\n",
    "        image.save(out_path)\n",
    "        print(f\"[{idx}] Zapisano: {reply} → {out_path}\")\n",
    "\n",
    "    except Exception as e:\n",
    "        print(f\"[{idx}] Błąd modelu: {e}\")\n"
   ]
  },
  {
   "cell_type": "markdown",
   "metadata": {},
   "source": [
    "### Run the downloading"
   ]
  },
  {
   "cell_type": "code",
   "execution_count": null,
   "metadata": {},
   "outputs": [
    {
     "name": "stdout",
     "output_type": "stream",
     "text": [
      "[0] Zapisano: outside → ./dataset/outside/0_1749140542.607868.jpg\n",
      "[1] Zapisano: inside → ./dataset/inside/1_1749140543.161938.jpg\n",
      "[2] Błąd modelu: [Errno 2] No such file or directory: './dataset/not_known/2_1749140544.429642.jpg'\n",
      "[3] Zapisano: inside → ./dataset/inside/3_1749140546.6311276.jpg\n",
      "[4] Zapisano: inside → ./dataset/inside/4_1749140547.6052117.jpg\n",
      "[5] Zapisano: outside → ./dataset/outside/5_1749140548.3845892.jpg\n",
      "[6] Zapisano: outside → ./dataset/outside/6_1749140550.7292733.jpg\n",
      "[7] Zapisano: outside → ./dataset/outside/7_1749140553.2497263.jpg\n",
      "[8] Zapisano: outside → ./dataset/outside/8_1749140554.5359519.jpg\n",
      "[9] Zapisano: inside → ./dataset/inside/9_1749140556.5299706.jpg\n",
      "[10] Zapisano: inside → ./dataset/inside/10_1749140558.8867617.jpg\n",
      "[11] Zapisano: outside → ./dataset/outside/11_1749140561.761361.jpg\n",
      "[12] Zapisano: outside → ./dataset/outside/12_1749140562.6752684.jpg\n",
      "[13] Błąd modelu: [Errno 2] No such file or directory: './dataset/not_known/13_1749140563.681521.jpg'\n",
      "[14] Błąd pobierania obrazu: 404 Client Error: Not Found for url: https://upload.wikimedia.org/wikipedia/commons/c/cf/%D8%AC%D8%A7%D8%A6%D8%B2%D8%A9-_%D9%85%D9%88%D9%82%D8%B9_%D9%83%D9%84_%D9%8A%D9%88%D9%85_%D9%85%D8%B9%D9%84%D9%88%D9%85%D8%A9_%D8%B7%D8%A8%D9%8A%D8%A9.jpg\n",
      "[15] Zapisano: inside → ./dataset/inside/15_1749140566.8202317.jpg\n",
      "[16] Zapisano: inside → ./dataset/inside/16_1749140568.9757316.jpg\n",
      "[17] Zapisano: inside → ./dataset/inside/17_1749140571.6218903.jpg\n",
      "[18] Zapisano: inside → ./dataset/inside/18_1749140574.6494873.jpg\n",
      "[19] Zapisano: outside → ./dataset/outside/19_1749140577.5179505.jpg\n",
      "[20] Błąd pobierania obrazu: cannot identify image file <_io.BytesIO object at 0x7b2a99d221b0>\n",
      "[21] Błąd pobierania obrazu: 404 Client Error: Not Found for url: https://upload.wikimedia.org/wikipedia/ru/2/22/%D0%9E%D1%80%D0%B1%D0%B8%D1%82%D0%B0_%D0%B0%D1%81%D1%82%D0%B5%D1%80%D0%BE%D0%B8%D0%B4%D0%B0_69230.png\n",
      "[22] Zapisano: inside → ./dataset/inside/22_1749140580.4168983.jpg\n",
      "[23] Zapisano: outside → ./dataset/outside/23_1749140581.319366.jpg\n",
      "[24] Zapisano: inside → ./dataset/inside/24_1749140583.6264505.jpg\n",
      "[25] Zapisano: outside → ./dataset/outside/25_1749140585.625048.jpg\n",
      "[26] Zapisano: inside → ./dataset/inside/26_1749140586.24366.jpg\n",
      "[27] Zapisano: outside → ./dataset/outside/27_1749140589.5911658.jpg\n",
      "[28] Zapisano: outside → ./dataset/outside/28_1749140593.1145113.jpg\n",
      "[29] Zapisano: inside → ./dataset/inside/29_1749140596.4024224.jpg\n",
      "[30] Zapisano: inside → ./dataset/inside/30_1749140599.2199051.jpg\n",
      "[31] Zapisano: inside. → ./dataset/inside/31_1749140599.8253453.jpg\n",
      "[32] Zapisano: not known. → ./dataset/not_known/32_1749140600.8773468.jpg\n",
      "[33] Zapisano: inside → ./dataset/inside/33_1749140603.5791347.jpg\n",
      "[34] Zapisano: outside → ./dataset/outside/34_1749140604.737141.jpg\n",
      "[35] Zapisano: outside → ./dataset/outside/35_1749140605.9952161.jpg\n",
      "[36] Zapisano: not known → ./dataset/not_known/36_1749140608.2915173.jpg\n",
      "[37] Zapisano: inside → ./dataset/inside/37_1749140609.682174.jpg\n",
      "[38] Błąd pobierania obrazu: cannot identify image file <_io.BytesIO object at 0x7b2a6b8ac6d0>\n",
      "[39] Zapisano: outside → ./dataset/outside/39_1749140610.8028188.jpg\n",
      "[40] Zapisano: inside → ./dataset/inside/40_1749140611.9781628.jpg\n",
      "[41] Zapisano: inside → ./dataset/inside/41_1749140614.099352.jpg\n",
      "[42] Zapisano: inside → ./dataset/inside/42_1749140616.9403555.jpg\n",
      "[43] Zapisano: inside → ./dataset/inside/43_1749140617.961268.jpg\n",
      "[44] Błąd modelu: POST predict: Post \"http://127.0.0.1:38255/completion\": EOF (status code: 500)\n",
      "[45] Zapisano: outside → ./dataset/outside/45_1749140626.0835166.jpg\n",
      "[46] Zapisano: outside → ./dataset/outside/46_1749140628.9865513.jpg\n",
      "[47] Zapisano: inside → ./dataset/inside/47_1749140632.7405717.jpg\n",
      "[48] Zapisano: inside → ./dataset/inside/48_1749140635.7583375.jpg\n",
      "[49] Zapisano: inside → ./dataset/inside/49_1749140636.3186493.jpg\n",
      "[50] Zapisano: inside. → ./dataset/inside/50_1749140637.953578.jpg\n",
      "[51] Zapisano: inside. → ./dataset/inside/51_1749140639.1637456.jpg\n",
      "[52] Zapisano: inside → ./dataset/inside/52_1749140640.1208625.jpg\n",
      "[53] Zapisano: outside → ./dataset/outside/53_1749140643.9236348.jpg\n",
      "[54] Zapisano: inside → ./dataset/inside/54_1749140646.6560447.jpg\n",
      "[55] Zapisano: outside → ./dataset/outside/55_1749140649.2560616.jpg\n",
      "[56] Zapisano: outside → ./dataset/outside/56_1749140650.8369715.jpg\n",
      "[57] Zapisano: inside → ./dataset/inside/57_1749140652.1714056.jpg\n",
      "[58] Zapisano: not known. → ./dataset/not_known/58_1749140652.7739403.jpg\n",
      "[59] Zapisano: not known. → ./dataset/not_known/59_1749140653.206048.jpg\n",
      "[60] Zapisano: inside → ./dataset/inside/60_1749140654.394069.jpg\n",
      "[61] Błąd pobierania obrazu: cannot identify image file <_io.BytesIO object at 0x7b2a1afc1ad0>\n",
      "[62] Zapisano: inside → ./dataset/inside/62_1749140655.554085.jpg\n",
      "[63] Zapisano: outside → ./dataset/outside/63_1749140658.020775.jpg\n",
      "[64] Zapisano: outside → ./dataset/outside/64_1749140659.1598942.jpg\n",
      "[65] Zapisano: inside → ./dataset/inside/65_1749140661.2292776.jpg\n",
      "[66] Zapisano: inside → ./dataset/inside/66_1749140663.8391933.jpg\n",
      "[67] Zapisano: inside → ./dataset/inside/67_1749140664.7417934.jpg\n",
      "[68] Zapisano: outside → ./dataset/outside/68_1749140666.1373022.jpg\n",
      "[69] Zapisano: outside → ./dataset/outside/69_1749140669.372499.jpg\n",
      "[70] Zapisano: outside → ./dataset/outside/70_1749140670.2937644.jpg\n",
      "[71] Zapisano: inside. → ./dataset/inside/71_1749140673.5734975.jpg\n",
      "[72] Zapisano: outside → ./dataset/outside/72_1749140674.4437356.jpg\n"
     ]
    }
   ],
   "source": [
    "for idx, row in df.iterrows():\n",
    "    classify_and_save(row['image_url'], row['caption_attribution_description'], idx)\n"
   ]
  }
 ],
 "metadata": {
  "kernelspec": {
   "display_name": ".venv",
   "language": "python",
   "name": "python3"
  },
  "language_info": {
   "codemirror_mode": {
    "name": "ipython",
    "version": 3
   },
   "file_extension": ".py",
   "mimetype": "text/x-python",
   "name": "python",
   "nbconvert_exporter": "python",
   "pygments_lexer": "ipython3",
   "version": "3.12.3"
  }
 },
 "nbformat": 4,
 "nbformat_minor": 2
}
