{
 "cells": [
  {
   "cell_type": "markdown",
   "metadata": {},
   "source": [
    "## Downloading .parquet files"
   ]
  },
  {
   "cell_type": "code",
   "execution_count": null,
   "metadata": {},
   "outputs": [],
   "source": [
    "!wget https://huggingface.co/datasets/wikimedia/wit_base/resolve/main/data/train-00000-of-00330.parquet\n",
    "!wget https://huggingface.co/datasets/wikimedia/wit_base/resolve/main/data/train-00001-of-00330.parquet\n",
    "!wget https://huggingface.co/datasets/wikimedia/wit_base/resolve/main/data/train-00002-of-00330.parquet\n",
    "!wget https://huggingface.co/datasets/wikimedia/wit_base/resolve/main/data/train-00003-of-00330.parquet\n",
    "!wget https://huggingface.co/datasets/wikimedia/wit_base/resolve/main/data/train-00004-of-00330.parquet"
   ]
  },
  {
   "cell_type": "code",
   "execution_count": null,
   "metadata": {},
   "outputs": [],
   "source": [
    "import pandas as pd\n",
    "import requests\n",
    "from PIL import Image\n",
    "from io import BytesIO\n",
    "import os\n",
    "import ollama\n",
    "import tempfile\n",
    "import time"
   ]
  },
  {
   "cell_type": "markdown",
   "metadata": {},
   "source": [
    "## Downloading photos and classification using minicpm-v:8b (ollama)"
   ]
  },
  {
   "cell_type": "markdown",
   "metadata": {},
   "source": [
    "### Setup (need to be run for every .parquet file)"
   ]
  },
  {
   "cell_type": "code",
   "execution_count": null,
   "metadata": {},
   "outputs": [],
   "source": [
    "\n",
    "model_name = \"minicpm-v:8b\"\n",
    "parquet_file = \"train-00000-of-00330.parquet\"\n",
    "\n",
    "\n",
    "# Ścieżki wyjściowe\n",
    "INSIDE_DIR = './dataset/inside'\n",
    "OUTSIDE_DIR = './dataset/outside'\n",
    "not_known_DIR = './dataset/not_known'\n",
    "os.makedirs(INSIDE_DIR, exist_ok=True)\n",
    "os.makedirs(OUTSIDE_DIR, exist_ok=True)\n",
    "\n",
    "\n",
    "\n",
    "# Wczytaj Parquet do DataFrame\n",
    "df = pd.read_parquet(parquet_file)\n",
    "\n",
    "headers = {\n",
    "    \"User-Agent\": \"IN/OUT DeepLearning Project (mieszkowskifff@gmail.com)\"\n",
    "}"
   ]
  },
  {
   "cell_type": "markdown",
   "metadata": {},
   "source": [
    "### Function for asking model and saving file under proper directory"
   ]
  },
  {
   "cell_type": "code",
   "execution_count": null,
   "metadata": {},
   "outputs": [],
   "source": [
    "def classify_and_save(image_url, caption, idx):\n",
    "    try:\n",
    "        response = requests.get(image_url, headers = headers, timeout=10)\n",
    "        response.raise_for_status()\n",
    "        image = Image.open(BytesIO(response.content)).convert(\"RGB\")\n",
    "    except Exception as e:\n",
    "        print(f\"[{idx}] Błąd pobierania obrazu: {e}\")\n",
    "        return\n",
    "\n",
    "    try:\n",
    "        prompt = f\"\"\"You are an image scene classifier. Based on the image and the following caption, classify the scene strictly as \"inside\", \"outside\" or \"not known\".\n",
    "\n",
    "Caption: \"{caption}\"\n",
    "\n",
    "Respond only with: \"inside\", \"outside\" or \"not known\".\n",
    "\"\"\"\n",
    "        with tempfile.NamedTemporaryFile(suffix=\".jpg\", delete=False) as tmp:\n",
    "            image.save(tmp.name)\n",
    "            image_path = tmp.name\n",
    "\n",
    "        result = ollama.chat(\n",
    "            model = model_name,\n",
    "            messages = [{\n",
    "                \"role\": \"user\",\n",
    "                \"content\": prompt,\n",
    "                \"images\": [image_path]\n",
    "            }]\n",
    "        )\n",
    "\n",
    "        reply = result[\"message\"][\"content\"].strip().lower()\n",
    "        if reply == \"inside\":\n",
    "            out_path = os.path.join(INSIDE_DIR, f\"{idx}_{time.time()}.jpg\")\n",
    "        elif reply == \"outside\":\n",
    "            out_path = os.path.join(OUTSIDE_DIR, f\"{idx}_{time.time()}.jpg\")\n",
    "        elif reply == \"not known\":\n",
    "            out_path = os.path.join(not_known_DIR, f\"{idx}_{time.time()}.jpg\")\n",
    "        else:\n",
    "            print(f\"[{idx}] Nieoczekiwana odpowiedź modelu: {reply}\")\n",
    "            return\n",
    "\n",
    "        image.save(out_path)\n",
    "        print(f\"[{idx}] Zapisano: {reply} → {out_path}\")\n",
    "\n",
    "    except Exception as e:\n",
    "        print(f\"[{idx}] Błąd modelu: {e}\")\n"
   ]
  },
  {
   "cell_type": "markdown",
   "metadata": {},
   "source": [
    "### Run the downloading"
   ]
  },
  {
   "cell_type": "code",
   "execution_count": null,
   "metadata": {},
   "outputs": [],
   "source": [
    "for idx, row in df.iterrows():\n",
    "    classify_and_save(row['image_url'], row['caption_attribution_description'], idx)\n"
   ]
  }
 ],
 "metadata": {
  "kernelspec": {
   "display_name": ".venv",
   "language": "python",
   "name": "python3"
  },
  "language_info": {
   "name": "python",
   "version": "3.12.3"
  }
 },
 "nbformat": 4,
 "nbformat_minor": 2
}
